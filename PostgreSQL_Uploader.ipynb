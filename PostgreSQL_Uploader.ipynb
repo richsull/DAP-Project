{
 "cells": [
  {
   "cell_type": "markdown",
   "id": "417c56b7",
   "metadata": {},
   "source": [
    "### Connect to PostgreSQL from Python"
   ]
  },
  {
   "cell_type": "code",
   "execution_count": 1,
   "id": "1b8a9b6d",
   "metadata": {},
   "outputs": [
    {
     "name": "stdout",
     "output_type": "stream",
     "text": [
      "Error while connecting to PostgreSQL database \"aapl\" already exists\n",
      "\n"
     ]
    }
   ],
   "source": [
    "import psycopg2\n",
    "\n",
    "try:\n",
    "    dbConnection = psycopg2.connect(user=\"dap\",password=\"dap\",host=\"192.168.56.30\",port=\"5432\",database=\"postgres\")\n",
    "    dbConnection.set_isolation_level(0) # AUTOCOMMIT\n",
    "    dbCursor = dbConnection.cursor()\n",
    "    dbCursor.execute(\"CREATE DATABASE aapl;\")\n",
    "    dbCursor.close()\n",
    "except (Exception, psycopg2.Error) as dbError:\n",
    "    print(\"Error while connecting to PostgreSQL\", dbError)\n",
    "finally:\n",
    "    if (dbConnection):\n",
    "        dbConnection.close()"
   ]
  },
  {
   "cell_type": "markdown",
   "id": "7160f574",
   "metadata": {},
   "source": [
    "### Create a table in the new database"
   ]
  },
  {
   "cell_type": "code",
   "execution_count": 2,
   "id": "76f40ee7",
   "metadata": {},
   "outputs": [],
   "source": [
    "createString = \"\"\"\n",
    "CREATE TABLE daily_prices(\n",
    "price_date date not null default current_date PRIMARY KEY,\n",
    "high numeric(15,4),\n",
    "low numeric(15,4),\n",
    "open numeric(15,4),\n",
    "close numeric(15,4),\n",
    "volume numeric(15,4),\n",
    "adj_close numeric(15,4)\n",
    ");\n",
    "\"\"\""
   ]
  },
  {
   "cell_type": "code",
   "execution_count": 3,
   "id": "3d04f4c8",
   "metadata": {},
   "outputs": [],
   "source": [
    "try:\n",
    "    dbConnection = psycopg2.connect(user=\"dap\",password=\"dap\",host=\"192.168.56.30\",port=\"5432\",database=\"aapl\")\n",
    "    dbConnection.set_isolation_level(0) # AUTOCOMMIT\n",
    "    dbCursor = dbConnection.cursor()\n",
    "    dbCursor.execute(createString)\n",
    "    dbCursor.close()\n",
    "except (Exception, psycopg2.Error) as dbError:\n",
    "    print(\"Error while connecting to PostgreSQL\", dbError)\n",
    "finally:\n",
    "    if (dbConnection):\n",
    "        dbConnection.close()"
   ]
  },
  {
   "cell_type": "markdown",
   "id": "0459d8a8",
   "metadata": {},
   "source": [
    "### Populate the table on PostgreSQL"
   ]
  },
  {
   "cell_type": "code",
   "execution_count": 4,
   "id": "762eb967",
   "metadata": {},
   "outputs": [],
   "source": [
    "import csv\n",
    "\n",
    "try:\n",
    "    dbConnection = psycopg2.connect(user=\"dap\",password=\"dap\",host=\"192.168.56.30\",port=\"5432\",database=\"aapl\")\n",
    "    dbConnection.set_isolation_level(0) # AUTOCOMMIT\n",
    "    dbCursor = dbConnection.cursor()\n",
    "    insertString = \"INSERT INTO daily_prices VALUES ('{}',\"+\"{},\"+\"{},\"+\"{},\"+\"{},\"+\"{},\"+\"{})\"\n",
    "    with open ('aapl.csv', 'r') as f:\n",
    "        reader = csv.reader(f)\n",
    "        next(reader)\n",
    "        for row in reader:\n",
    "            dbCursor.execute(insertString.format(*row))\n",
    "    dbCursor.close()\n",
    "except (Exception, psycopg2.Error) as dbError:\n",
    "    print(\"Error: \", dbError)\n",
    "finally:\n",
    "    if (dbConnection):\n",
    "        dbConnection.close()"
   ]
  },
  {
   "cell_type": "markdown",
   "id": "8aed0ffd",
   "metadata": {},
   "source": [
    "### Query Table"
   ]
  },
  {
   "cell_type": "code",
   "execution_count": 22,
   "id": "0fa6c615",
   "metadata": {},
   "outputs": [
    {
     "name": "stdout",
     "output_type": "stream",
     "text": [
      "    month      avg_op      avg_lo      avg_hi      avg_cl\n",
      "0     3.0  164.806957  162.939130  167.164348  164.565952\n",
      "1     7.0  148.436500  147.141500  150.766000  149.215355\n",
      "2     8.0  166.956522  165.533913  168.589565  166.569487\n",
      "3     5.0  148.324286  145.364286  150.950952  147.934524\n",
      "4    10.0  144.105714  142.480476  146.800476  144.773167\n",
      "5    11.0  146.395263  143.830000  148.166316  145.936332\n",
      "6     9.0  153.284286  150.893333  155.308571  152.749462\n",
      "7     4.0  167.479000  165.083000  169.518500  166.069710\n",
      "8     1.0  170.201500  167.639500  172.448000  168.881345\n",
      "9     2.0  169.635263  167.580526  171.585263  169.030253\n",
      "10    6.0  139.945714  138.111429  141.919048  139.373452\n"
     ]
    },
    {
     "name": "stderr",
     "output_type": "stream",
     "text": [
      "/opt/anaconda3/lib/python3.9/site-packages/pandas/io/sql.py:762: UserWarning: pandas only support SQLAlchemy connectable(engine/connection) ordatabase string URI or sqlite3 DBAPI2 connectionother DBAPI2 objects are not tested, please consider using SQLAlchemy\n",
      "  warnings.warn(\n"
     ]
    }
   ],
   "source": [
    "import pandas as pd\n",
    "import pandas.io.sql as sqlio\n",
    "import psycopg2\n",
    "\n",
    "sql = \"\"\"\n",
    "    SELECT \n",
    "    EXTRACT(MONTH FROM price_date) AS month,\n",
    "    AVG(open) AS avg_op,\n",
    "    AVG(low) AS avg_lo,\n",
    "    AVG(high) AS avg_hi,\n",
    "    AVG(adj_close) AS avg_cl\n",
    "    FROM daily_prices\n",
    "    GROUP BY month;\n",
    "    \"\"\"\n",
    "try:\n",
    "    dbConnection = psycopg2.connect(user=\"dap\",password=\"dap\",host=\"192.168.56.30\",port=\"5432\",database=\"aapl\")\n",
    "    price_dataframe = sqlio.read_sql_query(sql, dbConnection)\n",
    "except (Exception, psycopg2.Error) as dbError:\n",
    "    print(\"Error: \", dbError)\n",
    "finally:\n",
    "    if (dbConnection):\n",
    "        dbConnection.close()  \n",
    "        \n",
    "print(price_dataframe)"
   ]
  },
  {
   "cell_type": "markdown",
   "id": "583f5f17",
   "metadata": {},
   "source": [
    "## Display bar chart of temperatures by month"
   ]
  },
  {
   "cell_type": "code",
   "execution_count": 16,
   "id": "06198308",
   "metadata": {},
   "outputs": [
    {
     "data": {
      "text/plain": [
       "<AxesSubplot:xlabel='month', ylabel='avg_hi'>"
      ]
     },
     "execution_count": 16,
     "metadata": {},
     "output_type": "execute_result"
    },
    {
     "data": {
      "image/png": "[encoded data removed]",
      "text/plain": [
       "<Figure size 640x480 with 1 Axes>"
      ]
     },
     "metadata": {},
     "output_type": "display_data"
    }
   ],
   "source": [
    "import seaborn as sns\n",
    "import matplotlib.pyplot as plt\n",
    "sns.barplot(x=\"month\",y=\"avg_hi\",data=price_dataframe)"
   ]
  },
  {
   "cell_type": "markdown",
   "id": "6b8d74a4",
   "metadata": {},
   "source": [
    "## Querying and visualising the data"
   ]
  },
  {
   "cell_type": "code",
   "execution_count": 28,
   "id": "3b409561",
   "metadata": {},
   "outputs": [
    {
     "name": "stderr",
     "output_type": "stream",
     "text": [
      "/opt/anaconda3/lib/python3.9/site-packages/pandas/io/sql.py:762: UserWarning: pandas only support SQLAlchemy connectable(engine/connection) ordatabase string URI or sqlite3 DBAPI2 connectionother DBAPI2 objects are not tested, please consider using SQLAlchemy\n",
      "  warnings.warn(\n"
     ]
    },
    {
     "data": {
      "image/png": "[encoded data removed]",
      "text/plain": [
       "<Figure size 640x480 with 1 Axes>"
      ]
     },
     "metadata": {},
     "output_type": "display_data"
    }
   ],
   "source": [
    "import pandas as pd\n",
    "import pandas.io.sql as sqlio\n",
    "import psycopg2\n",
    "import seaborn as sns\n",
    "import matplotlib.pyplot as plt\n",
    "\n",
    "sql = \"\"\"\n",
    "    SELECT price_date AS obs_date, MIN(open) AS ao, MIN(close) AS ac\n",
    "    FROM daily_prices\n",
    "    GROUP BY obs_date;\n",
    "    \"\"\"\n",
    "try:\n",
    "    dbConnection = psycopg2.connect(user=\"dap\",password=\"dap\",host=\"192.168.56.30\",port=\"5432\",database=\"aapl\")\n",
    "    weather_dataframe = sqlio.read_sql_query(sql, dbConnection)\n",
    "    sns.scatterplot(x=\"obs_date\", y=\"ac\",data=weather_dataframe);\n",
    "except (Exception, psycopg2.Error) as dbError:\n",
    "    print(\"Error: \", dbError)\n",
    "finally:\n",
    "    if (dbConnection):\n",
    "        dbConnection.close()  \n",
    "        "
   ]
  },
  {
   "cell_type": "code",
   "execution_count": null,
   "id": "3390707b",
   "metadata": {},
   "outputs": [],
   "source": []
  }
 ],
 "metadata": {
  "kernelspec": {
   "display_name": "Python 3 (ipykernel)",
   "language": "python",
   "name": "python3"
  },
  "language_info": {
   "codemirror_mode": {
    "name": "ipython",
    "version": 3
   },
   "file_extension": ".py",
   "mimetype": "text/x-python",
   "name": "python",
   "nbconvert_exporter": "python",
   "pygments_lexer": "ipython3",
   "version": "3.9.13"
  }
 },
 "nbformat": 4,
 "nbformat_minor": 5
}
